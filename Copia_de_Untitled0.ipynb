{
  "nbformat": 4,
  "nbformat_minor": 0,
  "metadata": {
    "colab": {
      "name": "Copia de Untitled0.ipynb",
      "provenance": [],
      "authorship_tag": "ABX9TyPwpkS+bCmp/6/z6wTwj8ft",
      "include_colab_link": true
    },
    "kernelspec": {
      "name": "python3",
      "display_name": "Python 3"
    },
    "language_info": {
      "name": "python"
    }
  },
  "cells": [
    {
      "cell_type": "markdown",
      "metadata": {
        "id": "view-in-github",
        "colab_type": "text"
      },
      "source": [
        "<a href=\"https://colab.research.google.com/github/angelgonzalez1612/prueba1/blob/main/Copia_de_Untitled0.ipynb\" target=\"_parent\"><img src=\"https://colab.research.google.com/assets/colab-badge.svg\" alt=\"Open In Colab\"/></a>"
      ]
    },
    {
      "cell_type": "code",
      "execution_count": null,
      "metadata": {
        "id": "eFKgUxe4sQCR"
      },
      "outputs": [],
      "source": [
        "import tensorflow as tf\n",
        "import numpy as np"
      ]
    },
    {
      "cell_type": "code",
      "source": [
        "rango = np.array([[6,7.5],[7,8.5],[8,9.2],[9,10],[10,9]], dtype=float)\n",
        "promedio = np.array([6.9,7.9,8.72,9.6,9.4], dtype=float)"
      ],
      "metadata": {
        "id": "M7OwIdf63mFU"
      },
      "execution_count": null,
      "outputs": []
    },
    {
      "cell_type": "code",
      "source": [
        "capa= tf.keras.layers.Dense(units=1, input_shape=[2])\n",
        "modelo= tf.keras.Sequential([capa])"
      ],
      "metadata": {
        "id": "aMu-gVu15alR"
      },
      "execution_count": null,
      "outputs": []
    },
    {
      "cell_type": "code",
      "source": [
        "modelo.compile(\n",
        "    optimizer=tf.keras.optimizers.Adam(0.1),\n",
        "    loss='mean_squared_error'\n",
        ")"
      ],
      "metadata": {
        "id": "YelLsSbn6FoP"
      },
      "execution_count": null,
      "outputs": []
    },
    {
      "cell_type": "code",
      "source": [
        "print(\"Comenzando...\")\n",
        "guardado = modelo.fit(rango, promedio, epochs=3000, verbose=False)\n",
        "print(\"finalizado!\")"
      ],
      "metadata": {
        "colab": {
          "base_uri": "https://localhost:8080/"
        },
        "id": "af-lAXT46hg9",
        "outputId": "d60ec1ac-d809-462e-a0dd-1ae6b0908f24"
      },
      "execution_count": null,
      "outputs": [
        {
          "output_type": "stream",
          "name": "stdout",
          "text": [
            "Comenzando...\n",
            "finalizado!\n"
          ]
        }
      ]
    },
    {
      "cell_type": "code",
      "source": [
        "print(\"\\tCalculos\")\n",
        "proc1= input(\"Ingrese la calificacion de la Primera Unidad: \")\n",
        "proc2= input(\"ingrese la calificacion de la segunda unidad: \")\n",
        "print(\"\\tResultado\")\n",
        "resultado = np.array([[proc1,proc2]], dtype=float)\n",
        "print(\"PROMEDIO: \")\n",
        "print(modelo.predict(resultado))"
      ],
      "metadata": {
        "colab": {
          "base_uri": "https://localhost:8080/"
        },
        "id": "PPa-NzHC_tOw",
        "outputId": "1d439e7f-d87d-42d2-9807-0742792e99b5"
      },
      "execution_count": null,
      "outputs": [
        {
          "output_type": "stream",
          "name": "stdout",
          "text": [
            "\tCalculos\n",
            "Ingrese la calificacion de la Primera Unidad: 5\n",
            "ingrese la calificacion de la segunda unidad: 8\n",
            "\tResultado\n",
            "PROMEDIO: \n",
            "[[6.8000016]]\n"
          ]
        }
      ]
    },
    {
      "cell_type": "code",
      "source": [
        "import matplotlib.pyplot as plt\n",
        "plt.xlabel(\"# Epoca\")\n",
        "plt.ylabel(\"Magnitud de pérdida\")\n",
        "plt.plot(proc.history[\"loss\"])"
      ],
      "metadata": {
        "colab": {
          "base_uri": "https://localhost:8080/",
          "height": 307
        },
        "id": "fTsP4s28OHQK",
        "outputId": "8dd57aae-f454-4069-cde5-516827748b63"
      },
      "execution_count": null,
      "outputs": [
        {
          "output_type": "execute_result",
          "data": {
            "text/plain": [
              "[<matplotlib.lines.Line2D at 0x7fbae38d8090>]"
            ]
          },
          "metadata": {},
          "execution_count": 110
        },
        {
          "output_type": "display_data",
          "data": {
            "text/plain": [
              "<Figure size 432x288 with 1 Axes>"
            ],
            "image/png": "[encoded data removed]"
          },
          "metadata": {
            "needs_background": "light"
          }
        }
      ]
    }
  ]
}